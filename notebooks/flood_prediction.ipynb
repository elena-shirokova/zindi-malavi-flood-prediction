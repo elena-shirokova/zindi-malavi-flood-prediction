{
 "cells": [
  {
   "cell_type": "code",
   "execution_count": 1,
   "metadata": {
    "ExecuteTime": {
     "end_time": "2020-04-25T14:51:14.822637Z",
     "start_time": "2020-04-25T14:51:12.571960Z"
    }
   },
   "outputs": [],
   "source": [
    "import pandas as pd\n",
    "import seaborn as sns\n",
    "from matplotlib import pyplot as plt\n",
    "%matplotlib inline"
   ]
  },
  {
   "cell_type": "code",
   "execution_count": 2,
   "metadata": {
    "ExecuteTime": {
     "end_time": "2020-04-25T14:51:15.056376Z",
     "start_time": "2020-04-25T14:51:14.829823Z"
    },
    "scrolled": true
   },
   "outputs": [
    {
     "data": {
      "text/html": [
       "<div>\n",
       "<style scoped>\n",
       "    .dataframe tbody tr th:only-of-type {\n",
       "        vertical-align: middle;\n",
       "    }\n",
       "\n",
       "    .dataframe tbody tr th {\n",
       "        vertical-align: top;\n",
       "    }\n",
       "\n",
       "    .dataframe thead th {\n",
       "        text-align: right;\n",
       "    }\n",
       "</style>\n",
       "<table border=\"1\" class=\"dataframe\">\n",
       "  <thead>\n",
       "    <tr style=\"text-align: right;\">\n",
       "      <th></th>\n",
       "      <th>X</th>\n",
       "      <th>Y</th>\n",
       "      <th>target_2015</th>\n",
       "      <th>elevation</th>\n",
       "      <th>precip 2014-11-16 - 2014-11-23</th>\n",
       "      <th>precip 2014-11-23 - 2014-11-30</th>\n",
       "      <th>precip 2014-11-30 - 2014-12-07</th>\n",
       "      <th>precip 2014-12-07 - 2014-12-14</th>\n",
       "      <th>precip 2014-12-14 - 2014-12-21</th>\n",
       "      <th>precip 2014-12-21 - 2014-12-28</th>\n",
       "      <th>...</th>\n",
       "      <th>precip 2019-03-24 - 2019-03-31</th>\n",
       "      <th>precip 2019-03-31 - 2019-04-07</th>\n",
       "      <th>precip 2019-04-07 - 2019-04-14</th>\n",
       "      <th>precip 2019-04-14 - 2019-04-21</th>\n",
       "      <th>precip 2019-04-21 - 2019-04-28</th>\n",
       "      <th>precip 2019-04-28 - 2019-05-05</th>\n",
       "      <th>precip 2019-05-05 - 2019-05-12</th>\n",
       "      <th>precip 2019-05-12 - 2019-05-19</th>\n",
       "      <th>LC_Type1_mode</th>\n",
       "      <th>Square_ID</th>\n",
       "    </tr>\n",
       "  </thead>\n",
       "  <tbody>\n",
       "    <tr>\n",
       "      <th>0</th>\n",
       "      <td>34.26</td>\n",
       "      <td>-15.91</td>\n",
       "      <td>0.0</td>\n",
       "      <td>887.764222</td>\n",
       "      <td>0.0</td>\n",
       "      <td>0.0</td>\n",
       "      <td>0.0</td>\n",
       "      <td>14.844025</td>\n",
       "      <td>14.552823</td>\n",
       "      <td>12.237766</td>\n",
       "      <td>...</td>\n",
       "      <td>0.896323</td>\n",
       "      <td>1.68</td>\n",
       "      <td>0.0</td>\n",
       "      <td>0.0</td>\n",
       "      <td>0.0</td>\n",
       "      <td>0.0</td>\n",
       "      <td>0.0</td>\n",
       "      <td>0.0</td>\n",
       "      <td>9</td>\n",
       "      <td>4e3c3896-14ce-11ea-bce5-f49634744a41</td>\n",
       "    </tr>\n",
       "    <tr>\n",
       "      <th>1</th>\n",
       "      <td>34.26</td>\n",
       "      <td>-15.90</td>\n",
       "      <td>0.0</td>\n",
       "      <td>743.403912</td>\n",
       "      <td>0.0</td>\n",
       "      <td>0.0</td>\n",
       "      <td>0.0</td>\n",
       "      <td>14.844025</td>\n",
       "      <td>14.552823</td>\n",
       "      <td>12.237766</td>\n",
       "      <td>...</td>\n",
       "      <td>0.896323</td>\n",
       "      <td>1.68</td>\n",
       "      <td>0.0</td>\n",
       "      <td>0.0</td>\n",
       "      <td>0.0</td>\n",
       "      <td>0.0</td>\n",
       "      <td>0.0</td>\n",
       "      <td>0.0</td>\n",
       "      <td>9</td>\n",
       "      <td>4e3c3897-14ce-11ea-bce5-f49634744a41</td>\n",
       "    </tr>\n",
       "    <tr>\n",
       "      <th>2</th>\n",
       "      <td>34.26</td>\n",
       "      <td>-15.89</td>\n",
       "      <td>0.0</td>\n",
       "      <td>565.728343</td>\n",
       "      <td>0.0</td>\n",
       "      <td>0.0</td>\n",
       "      <td>0.0</td>\n",
       "      <td>14.844025</td>\n",
       "      <td>14.552823</td>\n",
       "      <td>12.237766</td>\n",
       "      <td>...</td>\n",
       "      <td>0.896323</td>\n",
       "      <td>1.68</td>\n",
       "      <td>0.0</td>\n",
       "      <td>0.0</td>\n",
       "      <td>0.0</td>\n",
       "      <td>0.0</td>\n",
       "      <td>0.0</td>\n",
       "      <td>0.0</td>\n",
       "      <td>9</td>\n",
       "      <td>4e3c3898-14ce-11ea-bce5-f49634744a41</td>\n",
       "    </tr>\n",
       "  </tbody>\n",
       "</table>\n",
       "<p>3 rows × 40 columns</p>\n",
       "</div>"
      ],
      "text/plain": [
       "       X      Y  target_2015   elevation  precip 2014-11-16 - 2014-11-23  \\\n",
       "0  34.26 -15.91          0.0  887.764222                             0.0   \n",
       "1  34.26 -15.90          0.0  743.403912                             0.0   \n",
       "2  34.26 -15.89          0.0  565.728343                             0.0   \n",
       "\n",
       "   precip 2014-11-23 - 2014-11-30  precip 2014-11-30 - 2014-12-07  \\\n",
       "0                             0.0                             0.0   \n",
       "1                             0.0                             0.0   \n",
       "2                             0.0                             0.0   \n",
       "\n",
       "   precip 2014-12-07 - 2014-12-14  precip 2014-12-14 - 2014-12-21  \\\n",
       "0                       14.844025                       14.552823   \n",
       "1                       14.844025                       14.552823   \n",
       "2                       14.844025                       14.552823   \n",
       "\n",
       "   precip 2014-12-21 - 2014-12-28  ...  precip 2019-03-24 - 2019-03-31  \\\n",
       "0                       12.237766  ...                        0.896323   \n",
       "1                       12.237766  ...                        0.896323   \n",
       "2                       12.237766  ...                        0.896323   \n",
       "\n",
       "   precip 2019-03-31 - 2019-04-07  precip 2019-04-07 - 2019-04-14  \\\n",
       "0                            1.68                             0.0   \n",
       "1                            1.68                             0.0   \n",
       "2                            1.68                             0.0   \n",
       "\n",
       "   precip 2019-04-14 - 2019-04-21  precip 2019-04-21 - 2019-04-28  \\\n",
       "0                             0.0                             0.0   \n",
       "1                             0.0                             0.0   \n",
       "2                             0.0                             0.0   \n",
       "\n",
       "   precip 2019-04-28 - 2019-05-05  precip 2019-05-05 - 2019-05-12  \\\n",
       "0                             0.0                             0.0   \n",
       "1                             0.0                             0.0   \n",
       "2                             0.0                             0.0   \n",
       "\n",
       "   precip 2019-05-12 - 2019-05-19  LC_Type1_mode  \\\n",
       "0                             0.0              9   \n",
       "1                             0.0              9   \n",
       "2                             0.0              9   \n",
       "\n",
       "                              Square_ID  \n",
       "0  4e3c3896-14ce-11ea-bce5-f49634744a41  \n",
       "1  4e3c3897-14ce-11ea-bce5-f49634744a41  \n",
       "2  4e3c3898-14ce-11ea-bce5-f49634744a41  \n",
       "\n",
       "[3 rows x 40 columns]"
      ]
     },
     "execution_count": 2,
     "metadata": {},
     "output_type": "execute_result"
    }
   ],
   "source": [
    "flood_df = pd.read_csv('train.csv')\n",
    "flood_df.head(3)"
   ]
  },
  {
   "cell_type": "code",
   "execution_count": 3,
   "metadata": {
    "ExecuteTime": {
     "end_time": "2020-04-25T14:51:15.342697Z",
     "start_time": "2020-04-25T14:51:15.059426Z"
    }
   },
   "outputs": [
    {
     "data": {
      "image/png": "[encoded data removed]",
      "text/plain": [
       "<Figure size 432x288 with 1 Axes>"
      ]
     },
     "metadata": {
      "needs_background": "light"
     },
     "output_type": "display_data"
    }
   ],
   "source": [
    "flood_df.elevation.hist(bins = 50);"
   ]
  },
  {
   "cell_type": "code",
   "execution_count": 4,
   "metadata": {
    "ExecuteTime": {
     "end_time": "2020-04-25T14:51:15.566105Z",
     "start_time": "2020-04-25T14:51:15.346806Z"
    }
   },
   "outputs": [
    {
     "data": {
      "image/png": "[encoded data removed]",
      "text/plain": [
       "<Figure size 432x288 with 1 Axes>"
      ]
     },
     "metadata": {
      "needs_background": "light"
     },
     "output_type": "display_data"
    }
   ],
   "source": [
    "flood_df.LC_Type1_mode.hist();"
   ]
  },
  {
   "cell_type": "code",
   "execution_count": 5,
   "metadata": {
    "ExecuteTime": {
     "end_time": "2020-04-25T14:51:15.582098Z",
     "start_time": "2020-04-25T14:51:15.571890Z"
    }
   },
   "outputs": [
    {
     "data": {
      "text/plain": [
       "(16466, 40)"
      ]
     },
     "execution_count": 5,
     "metadata": {},
     "output_type": "execute_result"
    }
   ],
   "source": [
    "flood_df.shape"
   ]
  },
  {
   "cell_type": "code",
   "execution_count": 6,
   "metadata": {
    "ExecuteTime": {
     "end_time": "2020-04-25T14:51:16.184348Z",
     "start_time": "2020-04-25T14:51:15.585735Z"
    }
   },
   "outputs": [
    {
     "data": {
      "image/png": "[encoded data removed]",
      "text/plain": [
       "<Figure size 432x288 with 2 Axes>"
      ]
     },
     "metadata": {
      "needs_background": "light"
     },
     "output_type": "display_data"
    }
   ],
   "source": [
    "sns.heatmap(flood_df.corr().abs())\n",
    "plt.show()"
   ]
  },
  {
   "cell_type": "markdown",
   "metadata": {},
   "source": [
    "__Prepare feature__"
   ]
  },
  {
   "cell_type": "code",
   "execution_count": 7,
   "metadata": {
    "ExecuteTime": {
     "end_time": "2020-04-25T14:51:16.214243Z",
     "start_time": "2020-04-25T14:51:16.187115Z"
    }
   },
   "outputs": [
    {
     "data": {
      "text/plain": [
       "Index(['X', 'Y', 'target_2015', 'elevation', 'precip 2014-11-16 - 2014-11-23',\n",
       "       'precip 2014-11-23 - 2014-11-30', 'precip 2014-11-30 - 2014-12-07',\n",
       "       'precip 2014-12-07 - 2014-12-14', 'precip 2014-12-14 - 2014-12-21',\n",
       "       'precip 2014-12-21 - 2014-12-28', 'precip 2014-12-28 - 2015-01-04',\n",
       "       'precip 2015-01-04 - 2015-01-11', 'precip 2015-01-11 - 2015-01-18',\n",
       "       'precip 2015-01-18 - 2015-01-25', 'precip 2015-01-25 - 2015-02-01',\n",
       "       'precip 2015-02-01 - 2015-02-08', 'precip 2015-02-08 - 2015-02-15',\n",
       "       'precip 2015-02-15 - 2015-02-22', 'precip 2015-02-22 - 2015-03-01',\n",
       "       'precip 2015-03-01 - 2015-03-08', 'precip 2015-03-08 - 2015-03-15',\n",
       "       'precip 2019-01-20 - 2019-01-27', 'precip 2019-01-27 - 2019-02-03',\n",
       "       'precip 2019-02-03 - 2019-02-10', 'precip 2019-02-10 - 2019-02-17',\n",
       "       'precip 2019-02-17 - 2019-02-24', 'precip 2019-02-24 - 2019-03-03',\n",
       "       'precip 2019-03-03 - 2019-03-10', 'precip 2019-03-10 - 2019-03-17',\n",
       "       'precip 2019-03-17 - 2019-03-24', 'precip 2019-03-24 - 2019-03-31',\n",
       "       'precip 2019-03-31 - 2019-04-07', 'precip 2019-04-07 - 2019-04-14',\n",
       "       'precip 2019-04-14 - 2019-04-21', 'precip 2019-04-21 - 2019-04-28',\n",
       "       'precip 2019-04-28 - 2019-05-05', 'precip 2019-05-05 - 2019-05-12',\n",
       "       'precip 2019-05-12 - 2019-05-19', 'Square_ID', 'LC_Type1_mode_2',\n",
       "       'LC_Type1_mode_4', 'LC_Type1_mode_5', 'LC_Type1_mode_7',\n",
       "       'LC_Type1_mode_8', 'LC_Type1_mode_9', 'LC_Type1_mode_10',\n",
       "       'LC_Type1_mode_11', 'LC_Type1_mode_12', 'LC_Type1_mode_13',\n",
       "       'LC_Type1_mode_14', 'LC_Type1_mode_17'],\n",
       "      dtype='object')"
      ]
     },
     "execution_count": 7,
     "metadata": {},
     "output_type": "execute_result"
    }
   ],
   "source": [
    "flood_df = pd.get_dummies(flood_df, columns = ['LC_Type1_mode'])\n",
    "\n",
    "flood_df.columns"
   ]
  },
  {
   "cell_type": "code",
   "execution_count": 8,
   "metadata": {
    "ExecuteTime": {
     "end_time": "2020-04-25T14:51:16.242517Z",
     "start_time": "2020-04-25T14:51:16.218212Z"
    }
   },
   "outputs": [
    {
     "data": {
      "text/html": [
       "<div>\n",
       "<style scoped>\n",
       "    .dataframe tbody tr th:only-of-type {\n",
       "        vertical-align: middle;\n",
       "    }\n",
       "\n",
       "    .dataframe tbody tr th {\n",
       "        vertical-align: top;\n",
       "    }\n",
       "\n",
       "    .dataframe thead th {\n",
       "        text-align: right;\n",
       "    }\n",
       "</style>\n",
       "<table border=\"1\" class=\"dataframe\">\n",
       "  <thead>\n",
       "    <tr style=\"text-align: right;\">\n",
       "      <th></th>\n",
       "      <th>X</th>\n",
       "      <th>Y</th>\n",
       "      <th>target_2015</th>\n",
       "      <th>elevation</th>\n",
       "      <th>precip 2014-11-16 - 2014-11-23</th>\n",
       "      <th>precip 2014-11-23 - 2014-11-30</th>\n",
       "      <th>precip 2014-11-30 - 2014-12-07</th>\n",
       "      <th>precip 2014-12-07 - 2014-12-14</th>\n",
       "      <th>precip 2014-12-14 - 2014-12-21</th>\n",
       "      <th>precip 2014-12-21 - 2014-12-28</th>\n",
       "      <th>...</th>\n",
       "      <th>LC_Type1_mode_5</th>\n",
       "      <th>LC_Type1_mode_7</th>\n",
       "      <th>LC_Type1_mode_8</th>\n",
       "      <th>LC_Type1_mode_9</th>\n",
       "      <th>LC_Type1_mode_10</th>\n",
       "      <th>LC_Type1_mode_11</th>\n",
       "      <th>LC_Type1_mode_12</th>\n",
       "      <th>LC_Type1_mode_13</th>\n",
       "      <th>LC_Type1_mode_14</th>\n",
       "      <th>LC_Type1_mode_17</th>\n",
       "    </tr>\n",
       "  </thead>\n",
       "  <tbody>\n",
       "    <tr>\n",
       "      <th>0</th>\n",
       "      <td>34.26</td>\n",
       "      <td>-15.91</td>\n",
       "      <td>0.0</td>\n",
       "      <td>887.764222</td>\n",
       "      <td>0.0</td>\n",
       "      <td>0.0</td>\n",
       "      <td>0.0</td>\n",
       "      <td>14.844025</td>\n",
       "      <td>14.552823</td>\n",
       "      <td>12.237766</td>\n",
       "      <td>...</td>\n",
       "      <td>0</td>\n",
       "      <td>0</td>\n",
       "      <td>0</td>\n",
       "      <td>1</td>\n",
       "      <td>0</td>\n",
       "      <td>0</td>\n",
       "      <td>0</td>\n",
       "      <td>0</td>\n",
       "      <td>0</td>\n",
       "      <td>0</td>\n",
       "    </tr>\n",
       "    <tr>\n",
       "      <th>1</th>\n",
       "      <td>34.26</td>\n",
       "      <td>-15.90</td>\n",
       "      <td>0.0</td>\n",
       "      <td>743.403912</td>\n",
       "      <td>0.0</td>\n",
       "      <td>0.0</td>\n",
       "      <td>0.0</td>\n",
       "      <td>14.844025</td>\n",
       "      <td>14.552823</td>\n",
       "      <td>12.237766</td>\n",
       "      <td>...</td>\n",
       "      <td>0</td>\n",
       "      <td>0</td>\n",
       "      <td>0</td>\n",
       "      <td>1</td>\n",
       "      <td>0</td>\n",
       "      <td>0</td>\n",
       "      <td>0</td>\n",
       "      <td>0</td>\n",
       "      <td>0</td>\n",
       "      <td>0</td>\n",
       "    </tr>\n",
       "    <tr>\n",
       "      <th>2</th>\n",
       "      <td>34.26</td>\n",
       "      <td>-15.89</td>\n",
       "      <td>0.0</td>\n",
       "      <td>565.728343</td>\n",
       "      <td>0.0</td>\n",
       "      <td>0.0</td>\n",
       "      <td>0.0</td>\n",
       "      <td>14.844025</td>\n",
       "      <td>14.552823</td>\n",
       "      <td>12.237766</td>\n",
       "      <td>...</td>\n",
       "      <td>0</td>\n",
       "      <td>0</td>\n",
       "      <td>0</td>\n",
       "      <td>1</td>\n",
       "      <td>0</td>\n",
       "      <td>0</td>\n",
       "      <td>0</td>\n",
       "      <td>0</td>\n",
       "      <td>0</td>\n",
       "      <td>0</td>\n",
       "    </tr>\n",
       "    <tr>\n",
       "      <th>3</th>\n",
       "      <td>34.26</td>\n",
       "      <td>-15.88</td>\n",
       "      <td>0.0</td>\n",
       "      <td>443.392774</td>\n",
       "      <td>0.0</td>\n",
       "      <td>0.0</td>\n",
       "      <td>0.0</td>\n",
       "      <td>14.844025</td>\n",
       "      <td>14.552823</td>\n",
       "      <td>12.237766</td>\n",
       "      <td>...</td>\n",
       "      <td>0</td>\n",
       "      <td>0</td>\n",
       "      <td>0</td>\n",
       "      <td>0</td>\n",
       "      <td>1</td>\n",
       "      <td>0</td>\n",
       "      <td>0</td>\n",
       "      <td>0</td>\n",
       "      <td>0</td>\n",
       "      <td>0</td>\n",
       "    </tr>\n",
       "    <tr>\n",
       "      <th>4</th>\n",
       "      <td>34.26</td>\n",
       "      <td>-15.87</td>\n",
       "      <td>0.0</td>\n",
       "      <td>437.443428</td>\n",
       "      <td>0.0</td>\n",
       "      <td>0.0</td>\n",
       "      <td>0.0</td>\n",
       "      <td>14.844025</td>\n",
       "      <td>14.552823</td>\n",
       "      <td>12.237766</td>\n",
       "      <td>...</td>\n",
       "      <td>0</td>\n",
       "      <td>0</td>\n",
       "      <td>0</td>\n",
       "      <td>0</td>\n",
       "      <td>1</td>\n",
       "      <td>0</td>\n",
       "      <td>0</td>\n",
       "      <td>0</td>\n",
       "      <td>0</td>\n",
       "      <td>0</td>\n",
       "    </tr>\n",
       "  </tbody>\n",
       "</table>\n",
       "<p>5 rows × 51 columns</p>\n",
       "</div>"
      ],
      "text/plain": [
       "       X      Y  target_2015   elevation  precip 2014-11-16 - 2014-11-23  \\\n",
       "0  34.26 -15.91          0.0  887.764222                             0.0   \n",
       "1  34.26 -15.90          0.0  743.403912                             0.0   \n",
       "2  34.26 -15.89          0.0  565.728343                             0.0   \n",
       "3  34.26 -15.88          0.0  443.392774                             0.0   \n",
       "4  34.26 -15.87          0.0  437.443428                             0.0   \n",
       "\n",
       "   precip 2014-11-23 - 2014-11-30  precip 2014-11-30 - 2014-12-07  \\\n",
       "0                             0.0                             0.0   \n",
       "1                             0.0                             0.0   \n",
       "2                             0.0                             0.0   \n",
       "3                             0.0                             0.0   \n",
       "4                             0.0                             0.0   \n",
       "\n",
       "   precip 2014-12-07 - 2014-12-14  precip 2014-12-14 - 2014-12-21  \\\n",
       "0                       14.844025                       14.552823   \n",
       "1                       14.844025                       14.552823   \n",
       "2                       14.844025                       14.552823   \n",
       "3                       14.844025                       14.552823   \n",
       "4                       14.844025                       14.552823   \n",
       "\n",
       "   precip 2014-12-21 - 2014-12-28  ...  LC_Type1_mode_5  LC_Type1_mode_7  \\\n",
       "0                       12.237766  ...                0                0   \n",
       "1                       12.237766  ...                0                0   \n",
       "2                       12.237766  ...                0                0   \n",
       "3                       12.237766  ...                0                0   \n",
       "4                       12.237766  ...                0                0   \n",
       "\n",
       "   LC_Type1_mode_8  LC_Type1_mode_9  LC_Type1_mode_10  LC_Type1_mode_11  \\\n",
       "0                0                1                 0                 0   \n",
       "1                0                1                 0                 0   \n",
       "2                0                1                 0                 0   \n",
       "3                0                0                 1                 0   \n",
       "4                0                0                 1                 0   \n",
       "\n",
       "   LC_Type1_mode_12  LC_Type1_mode_13  LC_Type1_mode_14  LC_Type1_mode_17  \n",
       "0                 0                 0                 0                 0  \n",
       "1                 0                 0                 0                 0  \n",
       "2                 0                 0                 0                 0  \n",
       "3                 0                 0                 0                 0  \n",
       "4                 0                 0                 0                 0  \n",
       "\n",
       "[5 rows x 51 columns]"
      ]
     },
     "execution_count": 8,
     "metadata": {},
     "output_type": "execute_result"
    }
   ],
   "source": [
    "flood_df.head()"
   ]
  },
  {
   "cell_type": "code",
   "execution_count": 9,
   "metadata": {
    "ExecuteTime": {
     "end_time": "2020-04-25T14:51:16.363807Z",
     "start_time": "2020-04-25T14:51:16.257313Z"
    }
   },
   "outputs": [
    {
     "data": {
      "text/html": [
       "<div>\n",
       "<style scoped>\n",
       "    .dataframe tbody tr th:only-of-type {\n",
       "        vertical-align: middle;\n",
       "    }\n",
       "\n",
       "    .dataframe tbody tr th {\n",
       "        vertical-align: top;\n",
       "    }\n",
       "\n",
       "    .dataframe thead th {\n",
       "        text-align: right;\n",
       "    }\n",
       "</style>\n",
       "<table border=\"1\" class=\"dataframe\">\n",
       "  <thead>\n",
       "    <tr style=\"text-align: right;\">\n",
       "      <th></th>\n",
       "      <th>Square_ID</th>\n",
       "      <th>elevation</th>\n",
       "      <th>elevation_cat</th>\n",
       "    </tr>\n",
       "  </thead>\n",
       "  <tbody>\n",
       "    <tr>\n",
       "      <th>0</th>\n",
       "      <td>4e3c3896-14ce-11ea-bce5-f49634744a41</td>\n",
       "      <td>887.764222</td>\n",
       "      <td>(650.0, 900.0]</td>\n",
       "    </tr>\n",
       "    <tr>\n",
       "      <th>1</th>\n",
       "      <td>4e3c3897-14ce-11ea-bce5-f49634744a41</td>\n",
       "      <td>743.403912</td>\n",
       "      <td>(650.0, 900.0]</td>\n",
       "    </tr>\n",
       "    <tr>\n",
       "      <th>2</th>\n",
       "      <td>4e3c3898-14ce-11ea-bce5-f49634744a41</td>\n",
       "      <td>565.728343</td>\n",
       "      <td>(450.0, 650.0]</td>\n",
       "    </tr>\n",
       "    <tr>\n",
       "      <th>3</th>\n",
       "      <td>4e3c3899-14ce-11ea-bce5-f49634744a41</td>\n",
       "      <td>443.392774</td>\n",
       "      <td>(225.0, 450.0]</td>\n",
       "    </tr>\n",
       "    <tr>\n",
       "      <th>4</th>\n",
       "      <td>4e3c389a-14ce-11ea-bce5-f49634744a41</td>\n",
       "      <td>437.443428</td>\n",
       "      <td>(225.0, 450.0]</td>\n",
       "    </tr>\n",
       "  </tbody>\n",
       "</table>\n",
       "</div>"
      ],
      "text/plain": [
       "                              Square_ID   elevation   elevation_cat\n",
       "0  4e3c3896-14ce-11ea-bce5-f49634744a41  887.764222  (650.0, 900.0]\n",
       "1  4e3c3897-14ce-11ea-bce5-f49634744a41  743.403912  (650.0, 900.0]\n",
       "2  4e3c3898-14ce-11ea-bce5-f49634744a41  565.728343  (450.0, 650.0]\n",
       "3  4e3c3899-14ce-11ea-bce5-f49634744a41  443.392774  (225.0, 450.0]\n",
       "4  4e3c389a-14ce-11ea-bce5-f49634744a41  437.443428  (225.0, 450.0]"
      ]
     },
     "execution_count": 9,
     "metadata": {},
     "output_type": "execute_result"
    }
   ],
   "source": [
    "flood_df['elevation_cat'] = pd.cut(flood_df.elevation, \n",
    "                                   [0,225,450,650,900,1300,2000], \n",
    "                                   include_lowest=True).astype(str)\n",
    "\n",
    "flood_df[['Square_ID', 'elevation', 'elevation_cat']].head()"
   ]
  },
  {
   "cell_type": "code",
   "execution_count": 10,
   "metadata": {
    "ExecuteTime": {
     "end_time": "2020-04-25T14:51:16.394878Z",
     "start_time": "2020-04-25T14:51:16.366806Z"
    }
   },
   "outputs": [],
   "source": [
    "flood_df = flood_df.set_index('Square_ID')\n",
    "train = flood_df[flood_df.columns.drop(list(flood_df.filter(regex='2019')))]\n",
    "\n",
    "for_submission = flood_df[flood_df.columns.drop(list(flood_df.filter(regex='2014')))]\n",
    "for_submission = for_submission[for_submission.columns.drop(list(for_submission.filter(regex='2015')))]"
   ]
  },
  {
   "cell_type": "code",
   "execution_count": 11,
   "metadata": {
    "ExecuteTime": {
     "end_time": "2020-04-25T14:51:16.405349Z",
     "start_time": "2020-04-25T14:51:16.397568Z"
    }
   },
   "outputs": [],
   "source": [
    "old_cols_train = [x for x in train.columns if x.startswith('precip')]\n",
    "old_cols_sub = [x for x in for_submission.columns if x.startswith('precip')]\n",
    "\n",
    "new_cols = ['week_'+ str(x) for x in range (1,18)]"
   ]
  },
  {
   "cell_type": "code",
   "execution_count": 12,
   "metadata": {
    "ExecuteTime": {
     "end_time": "2020-04-25T14:51:16.418696Z",
     "start_time": "2020-04-25T14:51:16.407956Z"
    }
   },
   "outputs": [
    {
     "data": {
      "text/plain": [
       "Index(['X', 'Y', 'elevation', 'week_1', 'week_2', 'week_3', 'week_4', 'week_5',\n",
       "       'week_6', 'week_7', 'week_8', 'week_9', 'week_10', 'week_11', 'week_12',\n",
       "       'week_13', 'week_14', 'week_15', 'week_16', 'week_17',\n",
       "       'LC_Type1_mode_2', 'LC_Type1_mode_4', 'LC_Type1_mode_5',\n",
       "       'LC_Type1_mode_7', 'LC_Type1_mode_8', 'LC_Type1_mode_9',\n",
       "       'LC_Type1_mode_10', 'LC_Type1_mode_11', 'LC_Type1_mode_12',\n",
       "       'LC_Type1_mode_13', 'LC_Type1_mode_14', 'LC_Type1_mode_17',\n",
       "       'elevation_cat'],\n",
       "      dtype='object')"
      ]
     },
     "execution_count": 12,
     "metadata": {},
     "output_type": "execute_result"
    }
   ],
   "source": [
    "train = train.rename(columns=dict(zip(old_cols_train, new_cols)))\n",
    "for_submission = for_submission.rename(columns=dict(zip(old_cols_sub, new_cols)))\n",
    "for_submission.columns"
   ]
  },
  {
   "cell_type": "code",
   "execution_count": 13,
   "metadata": {
    "ExecuteTime": {
     "end_time": "2020-04-25T14:51:16.483428Z",
     "start_time": "2020-04-25T14:51:16.422872Z"
    }
   },
   "outputs": [],
   "source": [
    "train['mean_precip'] = train.loc[:, new_cols].mean(axis=1)\n",
    "train['max_precip'] = train.loc[:, new_cols].max(axis=1)\n",
    "train['median_precip'] = train.loc[:, new_cols].median(axis=1)\n",
    "\n",
    "for_submission['mean_precip'] = for_submission.loc[:, new_cols].mean(axis=1)\n",
    "for_submission['max_precip'] = for_submission.loc[:, new_cols].max(axis=1)\n",
    "for_submission['median_precip'] = for_submission.loc[:, new_cols].median(axis=1)"
   ]
  },
  {
   "cell_type": "code",
   "execution_count": 14,
   "metadata": {
    "ExecuteTime": {
     "end_time": "2020-04-25T14:51:16.492137Z",
     "start_time": "2020-04-25T14:51:16.485832Z"
    }
   },
   "outputs": [
    {
     "data": {
      "text/plain": [
       "Index(['X', 'Y', 'target_2015', 'elevation', 'week_1', 'week_2', 'week_3',\n",
       "       'week_4', 'week_5', 'week_6', 'week_7', 'week_8', 'week_9', 'week_10',\n",
       "       'week_11', 'week_12', 'week_13', 'week_14', 'week_15', 'week_16',\n",
       "       'week_17', 'LC_Type1_mode_2', 'LC_Type1_mode_4', 'LC_Type1_mode_5',\n",
       "       'LC_Type1_mode_7', 'LC_Type1_mode_8', 'LC_Type1_mode_9',\n",
       "       'LC_Type1_mode_10', 'LC_Type1_mode_11', 'LC_Type1_mode_12',\n",
       "       'LC_Type1_mode_13', 'LC_Type1_mode_14', 'LC_Type1_mode_17',\n",
       "       'elevation_cat', 'mean_precip', 'max_precip', 'median_precip'],\n",
       "      dtype='object')"
      ]
     },
     "execution_count": 14,
     "metadata": {},
     "output_type": "execute_result"
    }
   ],
   "source": [
    "train.columns"
   ]
  },
  {
   "cell_type": "code",
   "execution_count": 15,
   "metadata": {
    "ExecuteTime": {
     "end_time": "2020-04-25T14:51:16.524663Z",
     "start_time": "2020-04-25T14:51:16.498627Z"
    }
   },
   "outputs": [],
   "source": [
    "X = train.drop(labels = ['target_2015', 'elevation_cat'], axis = 1).values\n",
    "Y = train['target_2015'].values\n",
    "group = train['elevation_cat'].values "
   ]
  },
  {
   "cell_type": "code",
   "execution_count": 16,
   "metadata": {
    "ExecuteTime": {
     "end_time": "2020-04-25T14:51:21.645781Z",
     "start_time": "2020-04-25T14:51:21.200297Z"
    }
   },
   "outputs": [],
   "source": [
    "import numpy as np\n",
    "from sklearn.model_selection import GroupShuffleSplit, train_test_split\n",
    "from sklearn.neighbors import KNeighborsRegressor\n",
    "from sklearn.ensemble import GradientBoostingRegressor\n",
    "from sklearn.metrics import mean_squared_error\n",
    "\n",
    "from math import sqrt"
   ]
  },
  {
   "cell_type": "code",
   "execution_count": 17,
   "metadata": {
    "ExecuteTime": {
     "end_time": "2020-04-25T14:51:21.661447Z",
     "start_time": "2020-04-25T14:51:21.649800Z"
    }
   },
   "outputs": [],
   "source": [
    "gss = GroupShuffleSplit(n_splits=10, train_size=.7, random_state=10)\n",
    "\n",
    "knn_model = KNeighborsRegressor()\n",
    "\n",
    "model = GradientBoostingRegressor(random_state=21, n_estimators=400)"
   ]
  },
  {
   "cell_type": "code",
   "execution_count": 18,
   "metadata": {
    "ExecuteTime": {
     "end_time": "2020-04-25T14:52:50.826383Z",
     "start_time": "2020-04-25T14:51:22.009765Z"
    },
    "scrolled": true
   },
   "outputs": [
    {
     "name": "stdout",
     "output_type": "stream",
     "text": [
      "0.30533994846077417\n",
      "0.30533994846077417\n",
      "0.20387396692602888\n",
      "0.06714748061441543\n",
      "0.12460509864885255\n",
      "0.05720494881172211\n",
      "0.2415891587336521\n",
      "0.28837724976383405\n",
      "0.12460509864885255\n",
      "0.20387396692602888\n"
     ]
    }
   ],
   "source": [
    "for train_idx, test_idx in gss.split(X, Y, group):\n",
    "    x_train =  X[train_idx]\n",
    "    y_train = Y[train_idx]\n",
    "    x_test =  X[test_idx]\n",
    "    y_test = Y[test_idx]\n",
    "    \n",
    "    y_pred = model.fit(x_train, y_train).predict(x_test)\n",
    "    rmse = sqrt(mean_squared_error(y_test, y_pred))\n",
    "    print(rmse)"
   ]
  },
  {
   "cell_type": "code",
   "execution_count": 19,
   "metadata": {
    "ExecuteTime": {
     "end_time": "2020-04-25T14:52:50.873426Z",
     "start_time": "2020-04-25T14:52:50.837103Z"
    }
   },
   "outputs": [],
   "source": [
    "features = pd.DataFrame(list(train.drop(labels = ['target_2015', 'elevation_cat'], \n",
    "                                        axis = 1).columns),\n",
    "                        columns= ['features'])\n",
    "\n",
    "imp = pd.DataFrame(list(model.feature_importances_), \n",
    "                   columns= ['imp'])"
   ]
  },
  {
   "cell_type": "code",
   "execution_count": 20,
   "metadata": {
    "ExecuteTime": {
     "end_time": "2020-04-25T14:52:50.903917Z",
     "start_time": "2020-04-25T14:52:50.876178Z"
    }
   },
   "outputs": [
    {
     "data": {
      "text/html": [
       "<div>\n",
       "<style scoped>\n",
       "    .dataframe tbody tr th:only-of-type {\n",
       "        vertical-align: middle;\n",
       "    }\n",
       "\n",
       "    .dataframe tbody tr th {\n",
       "        vertical-align: top;\n",
       "    }\n",
       "\n",
       "    .dataframe thead th {\n",
       "        text-align: right;\n",
       "    }\n",
       "</style>\n",
       "<table border=\"1\" class=\"dataframe\">\n",
       "  <thead>\n",
       "    <tr style=\"text-align: right;\">\n",
       "      <th></th>\n",
       "      <th>features</th>\n",
       "      <th>imp</th>\n",
       "    </tr>\n",
       "  </thead>\n",
       "  <tbody>\n",
       "    <tr>\n",
       "      <th>2</th>\n",
       "      <td>elevation</td>\n",
       "      <td>0.815658</td>\n",
       "    </tr>\n",
       "    <tr>\n",
       "      <th>1</th>\n",
       "      <td>Y</td>\n",
       "      <td>0.099396</td>\n",
       "    </tr>\n",
       "    <tr>\n",
       "      <th>0</th>\n",
       "      <td>X</td>\n",
       "      <td>0.041917</td>\n",
       "    </tr>\n",
       "    <tr>\n",
       "      <th>15</th>\n",
       "      <td>week_13</td>\n",
       "      <td>0.012016</td>\n",
       "    </tr>\n",
       "    <tr>\n",
       "      <th>33</th>\n",
       "      <td>max_precip</td>\n",
       "      <td>0.007824</td>\n",
       "    </tr>\n",
       "    <tr>\n",
       "      <th>26</th>\n",
       "      <td>LC_Type1_mode_10</td>\n",
       "      <td>0.006993</td>\n",
       "    </tr>\n",
       "    <tr>\n",
       "      <th>16</th>\n",
       "      <td>week_14</td>\n",
       "      <td>0.003746</td>\n",
       "    </tr>\n",
       "    <tr>\n",
       "      <th>11</th>\n",
       "      <td>week_9</td>\n",
       "      <td>0.001804</td>\n",
       "    </tr>\n",
       "    <tr>\n",
       "      <th>17</th>\n",
       "      <td>week_15</td>\n",
       "      <td>0.001654</td>\n",
       "    </tr>\n",
       "    <tr>\n",
       "      <th>13</th>\n",
       "      <td>week_11</td>\n",
       "      <td>0.001103</td>\n",
       "    </tr>\n",
       "    <tr>\n",
       "      <th>19</th>\n",
       "      <td>week_17</td>\n",
       "      <td>0.000863</td>\n",
       "    </tr>\n",
       "    <tr>\n",
       "      <th>10</th>\n",
       "      <td>week_8</td>\n",
       "      <td>0.000821</td>\n",
       "    </tr>\n",
       "    <tr>\n",
       "      <th>34</th>\n",
       "      <td>median_precip</td>\n",
       "      <td>0.000750</td>\n",
       "    </tr>\n",
       "    <tr>\n",
       "      <th>29</th>\n",
       "      <td>LC_Type1_mode_13</td>\n",
       "      <td>0.000738</td>\n",
       "    </tr>\n",
       "    <tr>\n",
       "      <th>14</th>\n",
       "      <td>week_12</td>\n",
       "      <td>0.000723</td>\n",
       "    </tr>\n",
       "    <tr>\n",
       "      <th>28</th>\n",
       "      <td>LC_Type1_mode_12</td>\n",
       "      <td>0.000675</td>\n",
       "    </tr>\n",
       "    <tr>\n",
       "      <th>8</th>\n",
       "      <td>week_6</td>\n",
       "      <td>0.000549</td>\n",
       "    </tr>\n",
       "    <tr>\n",
       "      <th>18</th>\n",
       "      <td>week_16</td>\n",
       "      <td>0.000418</td>\n",
       "    </tr>\n",
       "    <tr>\n",
       "      <th>32</th>\n",
       "      <td>mean_precip</td>\n",
       "      <td>0.000406</td>\n",
       "    </tr>\n",
       "    <tr>\n",
       "      <th>9</th>\n",
       "      <td>week_7</td>\n",
       "      <td>0.000349</td>\n",
       "    </tr>\n",
       "    <tr>\n",
       "      <th>20</th>\n",
       "      <td>LC_Type1_mode_2</td>\n",
       "      <td>0.000340</td>\n",
       "    </tr>\n",
       "    <tr>\n",
       "      <th>6</th>\n",
       "      <td>week_4</td>\n",
       "      <td>0.000322</td>\n",
       "    </tr>\n",
       "    <tr>\n",
       "      <th>25</th>\n",
       "      <td>LC_Type1_mode_9</td>\n",
       "      <td>0.000315</td>\n",
       "    </tr>\n",
       "    <tr>\n",
       "      <th>27</th>\n",
       "      <td>LC_Type1_mode_11</td>\n",
       "      <td>0.000183</td>\n",
       "    </tr>\n",
       "    <tr>\n",
       "      <th>4</th>\n",
       "      <td>week_2</td>\n",
       "      <td>0.000098</td>\n",
       "    </tr>\n",
       "    <tr>\n",
       "      <th>7</th>\n",
       "      <td>week_5</td>\n",
       "      <td>0.000093</td>\n",
       "    </tr>\n",
       "    <tr>\n",
       "      <th>12</th>\n",
       "      <td>week_10</td>\n",
       "      <td>0.000091</td>\n",
       "    </tr>\n",
       "    <tr>\n",
       "      <th>21</th>\n",
       "      <td>LC_Type1_mode_4</td>\n",
       "      <td>0.000053</td>\n",
       "    </tr>\n",
       "    <tr>\n",
       "      <th>24</th>\n",
       "      <td>LC_Type1_mode_8</td>\n",
       "      <td>0.000042</td>\n",
       "    </tr>\n",
       "    <tr>\n",
       "      <th>30</th>\n",
       "      <td>LC_Type1_mode_14</td>\n",
       "      <td>0.000026</td>\n",
       "    </tr>\n",
       "    <tr>\n",
       "      <th>5</th>\n",
       "      <td>week_3</td>\n",
       "      <td>0.000015</td>\n",
       "    </tr>\n",
       "    <tr>\n",
       "      <th>3</th>\n",
       "      <td>week_1</td>\n",
       "      <td>0.000012</td>\n",
       "    </tr>\n",
       "    <tr>\n",
       "      <th>31</th>\n",
       "      <td>LC_Type1_mode_17</td>\n",
       "      <td>0.000006</td>\n",
       "    </tr>\n",
       "    <tr>\n",
       "      <th>23</th>\n",
       "      <td>LC_Type1_mode_7</td>\n",
       "      <td>0.000000</td>\n",
       "    </tr>\n",
       "    <tr>\n",
       "      <th>22</th>\n",
       "      <td>LC_Type1_mode_5</td>\n",
       "      <td>0.000000</td>\n",
       "    </tr>\n",
       "  </tbody>\n",
       "</table>\n",
       "</div>"
      ],
      "text/plain": [
       "            features       imp\n",
       "2          elevation  0.815658\n",
       "1                  Y  0.099396\n",
       "0                  X  0.041917\n",
       "15           week_13  0.012016\n",
       "33        max_precip  0.007824\n",
       "26  LC_Type1_mode_10  0.006993\n",
       "16           week_14  0.003746\n",
       "11            week_9  0.001804\n",
       "17           week_15  0.001654\n",
       "13           week_11  0.001103\n",
       "19           week_17  0.000863\n",
       "10            week_8  0.000821\n",
       "34     median_precip  0.000750\n",
       "29  LC_Type1_mode_13  0.000738\n",
       "14           week_12  0.000723\n",
       "28  LC_Type1_mode_12  0.000675\n",
       "8             week_6  0.000549\n",
       "18           week_16  0.000418\n",
       "32       mean_precip  0.000406\n",
       "9             week_7  0.000349\n",
       "20   LC_Type1_mode_2  0.000340\n",
       "6             week_4  0.000322\n",
       "25   LC_Type1_mode_9  0.000315\n",
       "27  LC_Type1_mode_11  0.000183\n",
       "4             week_2  0.000098\n",
       "7             week_5  0.000093\n",
       "12           week_10  0.000091\n",
       "21   LC_Type1_mode_4  0.000053\n",
       "24   LC_Type1_mode_8  0.000042\n",
       "30  LC_Type1_mode_14  0.000026\n",
       "5             week_3  0.000015\n",
       "3             week_1  0.000012\n",
       "31  LC_Type1_mode_17  0.000006\n",
       "23   LC_Type1_mode_7  0.000000\n",
       "22   LC_Type1_mode_5  0.000000"
      ]
     },
     "execution_count": 20,
     "metadata": {},
     "output_type": "execute_result"
    }
   ],
   "source": [
    "pd.concat([features, imp], axis = 1).sort_values(by = 'imp', ascending=False)"
   ]
  },
  {
   "cell_type": "code",
   "execution_count": 39,
   "metadata": {
    "ExecuteTime": {
     "end_time": "2020-04-25T14:59:14.452749Z",
     "start_time": "2020-04-25T14:59:14.372995Z"
    }
   },
   "outputs": [],
   "source": [
    "predict = for_submission.drop(labels = ['elevation_cat'], axis = 1).values\n",
    "\n",
    "predicted = model.predict(predict)"
   ]
  },
  {
   "cell_type": "code",
   "execution_count": 40,
   "metadata": {
    "ExecuteTime": {
     "end_time": "2020-04-25T14:59:14.647997Z",
     "start_time": "2020-04-25T14:59:14.637484Z"
    }
   },
   "outputs": [],
   "source": [
    "submission = pd.DataFrame({'Square_ID': flood_df.index, \n",
    "                        'train_2019': list(predicted)})"
   ]
  },
  {
   "cell_type": "code",
   "execution_count": 41,
   "metadata": {
    "ExecuteTime": {
     "end_time": "2020-04-25T14:59:52.266176Z",
     "start_time": "2020-04-25T14:59:52.112921Z"
    }
   },
   "outputs": [],
   "source": [
    "submission.to_csv('submission2504.csv', index = False)"
   ]
  },
  {
   "cell_type": "code",
   "execution_count": null,
   "metadata": {},
   "outputs": [],
   "source": []
  }
 ],
 "metadata": {
  "kernelspec": {
   "display_name": "Python 3",
   "language": "python",
   "name": "python3"
  },
  "language_info": {
   "codemirror_mode": {
    "name": "ipython",
    "version": 3
   },
   "file_extension": ".py",
   "mimetype": "text/x-python",
   "name": "python",
   "nbconvert_exporter": "python",
   "pygments_lexer": "ipython3",
   "version": "3.7.4"
  },
  "toc": {
   "base_numbering": 1,
   "nav_menu": {},
   "number_sections": true,
   "sideBar": true,
   "skip_h1_title": false,
   "title_cell": "Table of Contents",
   "title_sidebar": "Contents",
   "toc_cell": false,
   "toc_position": {},
   "toc_section_display": true,
   "toc_window_display": false
  }
 },
 "nbformat": 4,
 "nbformat_minor": 2
}
